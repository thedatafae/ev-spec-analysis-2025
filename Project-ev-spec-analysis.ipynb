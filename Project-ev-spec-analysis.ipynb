{
 "cells": [
  {
   "cell_type": "code",
   "execution_count": 3,
   "id": "e8b570d6-6348-4752-a816-6722e84aacab",
   "metadata": {},
   "outputs": [],
   "source": [
    "import pandas as pd \n",
    "import numpy as np"
   ]
  },
  {
   "cell_type": "code",
   "execution_count": 5,
   "id": "ec0616bc-29c5-49e5-a755-040c90aea918",
   "metadata": {},
   "outputs": [
    {
     "data": {
      "text/html": [
       "<div>\n",
       "<style scoped>\n",
       "    .dataframe tbody tr th:only-of-type {\n",
       "        vertical-align: middle;\n",
       "    }\n",
       "\n",
       "    .dataframe tbody tr th {\n",
       "        vertical-align: top;\n",
       "    }\n",
       "\n",
       "    .dataframe thead th {\n",
       "        text-align: right;\n",
       "    }\n",
       "</style>\n",
       "<table border=\"1\" class=\"dataframe\">\n",
       "  <thead>\n",
       "    <tr style=\"text-align: right;\">\n",
       "      <th></th>\n",
       "      <th>brand</th>\n",
       "      <th>model</th>\n",
       "      <th>top_speed_kmh</th>\n",
       "      <th>battery_capacity_kWh</th>\n",
       "      <th>battery_type</th>\n",
       "      <th>number_of_cells</th>\n",
       "      <th>torque_nm</th>\n",
       "      <th>efficiency_wh_per_km</th>\n",
       "      <th>range_km</th>\n",
       "      <th>acceleration_0_100_s</th>\n",
       "      <th>...</th>\n",
       "      <th>towing_capacity_kg</th>\n",
       "      <th>cargo_volume_l</th>\n",
       "      <th>seats</th>\n",
       "      <th>drivetrain</th>\n",
       "      <th>segment</th>\n",
       "      <th>length_mm</th>\n",
       "      <th>width_mm</th>\n",
       "      <th>height_mm</th>\n",
       "      <th>car_body_type</th>\n",
       "      <th>source_url</th>\n",
       "    </tr>\n",
       "  </thead>\n",
       "  <tbody>\n",
       "    <tr>\n",
       "      <th>0</th>\n",
       "      <td>Abarth</td>\n",
       "      <td>500e Convertible</td>\n",
       "      <td>155</td>\n",
       "      <td>37.8</td>\n",
       "      <td>Lithium-Ion</td>\n",
       "      <td>192.0</td>\n",
       "      <td>235.0</td>\n",
       "      <td>156</td>\n",
       "      <td>225</td>\n",
       "      <td>7.0</td>\n",
       "      <td>...</td>\n",
       "      <td>0.0</td>\n",
       "      <td>185</td>\n",
       "      <td>4</td>\n",
       "      <td>FWD</td>\n",
       "      <td>B - COMPACT</td>\n",
       "      <td>3673</td>\n",
       "      <td>1683</td>\n",
       "      <td>1518</td>\n",
       "      <td>Hatchback</td>\n",
       "      <td>https://ev-database.org/car/1904/Abarth-500e-C...</td>\n",
       "    </tr>\n",
       "    <tr>\n",
       "      <th>1</th>\n",
       "      <td>Abarth</td>\n",
       "      <td>500e Hatchback</td>\n",
       "      <td>155</td>\n",
       "      <td>37.8</td>\n",
       "      <td>Lithium-Ion</td>\n",
       "      <td>192.0</td>\n",
       "      <td>235.0</td>\n",
       "      <td>149</td>\n",
       "      <td>225</td>\n",
       "      <td>7.0</td>\n",
       "      <td>...</td>\n",
       "      <td>0.0</td>\n",
       "      <td>185</td>\n",
       "      <td>4</td>\n",
       "      <td>FWD</td>\n",
       "      <td>B - COMPACT</td>\n",
       "      <td>3673</td>\n",
       "      <td>1683</td>\n",
       "      <td>1518</td>\n",
       "      <td>Hatchback</td>\n",
       "      <td>https://ev-database.org/car/1903/Abarth-500e-H...</td>\n",
       "    </tr>\n",
       "    <tr>\n",
       "      <th>2</th>\n",
       "      <td>Abarth</td>\n",
       "      <td>600e Scorpionissima</td>\n",
       "      <td>200</td>\n",
       "      <td>50.8</td>\n",
       "      <td>Lithium-Ion</td>\n",
       "      <td>102.0</td>\n",
       "      <td>345.0</td>\n",
       "      <td>158</td>\n",
       "      <td>280</td>\n",
       "      <td>5.9</td>\n",
       "      <td>...</td>\n",
       "      <td>0.0</td>\n",
       "      <td>360</td>\n",
       "      <td>5</td>\n",
       "      <td>FWD</td>\n",
       "      <td>JB - COMPACT</td>\n",
       "      <td>4187</td>\n",
       "      <td>1779</td>\n",
       "      <td>1557</td>\n",
       "      <td>Suv</td>\n",
       "      <td>https://ev-database.org/car/3057/Abarth-600e-S...</td>\n",
       "    </tr>\n",
       "    <tr>\n",
       "      <th>3</th>\n",
       "      <td>Abarth</td>\n",
       "      <td>600e Turismo</td>\n",
       "      <td>200</td>\n",
       "      <td>50.8</td>\n",
       "      <td>Lithium-Ion</td>\n",
       "      <td>102.0</td>\n",
       "      <td>345.0</td>\n",
       "      <td>158</td>\n",
       "      <td>280</td>\n",
       "      <td>6.2</td>\n",
       "      <td>...</td>\n",
       "      <td>0.0</td>\n",
       "      <td>360</td>\n",
       "      <td>5</td>\n",
       "      <td>FWD</td>\n",
       "      <td>JB - COMPACT</td>\n",
       "      <td>4187</td>\n",
       "      <td>1779</td>\n",
       "      <td>1557</td>\n",
       "      <td>Suv</td>\n",
       "      <td>https://ev-database.org/car/3056/Abarth-600e-T...</td>\n",
       "    </tr>\n",
       "    <tr>\n",
       "      <th>4</th>\n",
       "      <td>Aiways</td>\n",
       "      <td>U5</td>\n",
       "      <td>150</td>\n",
       "      <td>60.0</td>\n",
       "      <td>Lithium-Ion</td>\n",
       "      <td>-1.0</td>\n",
       "      <td>310.0</td>\n",
       "      <td>156</td>\n",
       "      <td>315</td>\n",
       "      <td>7.5</td>\n",
       "      <td>...</td>\n",
       "      <td>0.0</td>\n",
       "      <td>496</td>\n",
       "      <td>5</td>\n",
       "      <td>FWD</td>\n",
       "      <td>JC - MEDIUM</td>\n",
       "      <td>4680</td>\n",
       "      <td>1865</td>\n",
       "      <td>1700</td>\n",
       "      <td>Suv</td>\n",
       "      <td>https://ev-database.org/car/1678/Aiways-U5</td>\n",
       "    </tr>\n",
       "  </tbody>\n",
       "</table>\n",
       "<p>5 rows × 22 columns</p>\n",
       "</div>"
      ],
      "text/plain": [
       "    brand                model  top_speed_kmh  battery_capacity_kWh  \\\n",
       "0  Abarth     500e Convertible            155                  37.8   \n",
       "1  Abarth       500e Hatchback            155                  37.8   \n",
       "2  Abarth  600e Scorpionissima            200                  50.8   \n",
       "3  Abarth         600e Turismo            200                  50.8   \n",
       "4  Aiways                   U5            150                  60.0   \n",
       "\n",
       "  battery_type  number_of_cells  torque_nm  efficiency_wh_per_km  range_km  \\\n",
       "0  Lithium-Ion            192.0      235.0                   156       225   \n",
       "1  Lithium-Ion            192.0      235.0                   149       225   \n",
       "2  Lithium-Ion            102.0      345.0                   158       280   \n",
       "3  Lithium-Ion            102.0      345.0                   158       280   \n",
       "4  Lithium-Ion             -1.0      310.0                   156       315   \n",
       "\n",
       "   acceleration_0_100_s  ...  towing_capacity_kg cargo_volume_l  seats  \\\n",
       "0                   7.0  ...                 0.0            185      4   \n",
       "1                   7.0  ...                 0.0            185      4   \n",
       "2                   5.9  ...                 0.0            360      5   \n",
       "3                   6.2  ...                 0.0            360      5   \n",
       "4                   7.5  ...                 0.0            496      5   \n",
       "\n",
       "  drivetrain       segment length_mm width_mm  height_mm  car_body_type  \\\n",
       "0        FWD   B - COMPACT      3673     1683       1518      Hatchback   \n",
       "1        FWD   B - COMPACT      3673     1683       1518      Hatchback   \n",
       "2        FWD  JB - COMPACT      4187     1779       1557            Suv   \n",
       "3        FWD  JB - COMPACT      4187     1779       1557            Suv   \n",
       "4        FWD   JC - MEDIUM      4680     1865       1700            Suv   \n",
       "\n",
       "                                          source_url  \n",
       "0  https://ev-database.org/car/1904/Abarth-500e-C...  \n",
       "1  https://ev-database.org/car/1903/Abarth-500e-H...  \n",
       "2  https://ev-database.org/car/3057/Abarth-600e-S...  \n",
       "3  https://ev-database.org/car/3056/Abarth-600e-T...  \n",
       "4         https://ev-database.org/car/1678/Aiways-U5  \n",
       "\n",
       "[5 rows x 22 columns]"
      ]
     },
     "execution_count": 5,
     "metadata": {},
     "output_type": "execute_result"
    }
   ],
   "source": [
    "df = pd.read_csv('Datasets/ev_cleaned.csv')\n",
    "df.head(5)"
   ]
  },
  {
   "cell_type": "code",
   "execution_count": 21,
   "id": "de861dac-e2b4-4a5a-ab2f-2dde825de68b",
   "metadata": {},
   "outputs": [
    {
     "data": {
      "text/plain": [
       "Index(['brand', 'model', 'top_speed_kmh', 'battery_capacity_kWh',\n",
       "       'battery_type', 'number_of_cells', 'torque_nm', 'efficiency_wh_per_km',\n",
       "       'range_km', 'acceleration_0_100_s', 'fast_charging_power_kw_dc',\n",
       "       'fast_charge_port', 'towing_capacity_kg', 'cargo_volume_l', 'seats',\n",
       "       'drivetrain', 'segment', 'length_mm', 'width_mm', 'height_mm',\n",
       "       'car_body_type', 'source_url'],\n",
       "      dtype='object')"
      ]
     },
     "execution_count": 21,
     "metadata": {},
     "output_type": "execute_result"
    }
   ],
   "source": [
    "df.columns"
   ]
  },
  {
   "cell_type": "markdown",
   "id": "81842c04-e7ab-46d2-837a-027a6fd61093",
   "metadata": {},
   "source": [
    "# Exploratory Data Analysis (EDA)"
   ]
  },
  {
   "cell_type": "code",
   "execution_count": 12,
   "id": "b7728560-b8d8-45e4-84d6-69181ad496e7",
   "metadata": {},
   "outputs": [
    {
     "data": {
      "text/plain": [
       "brand\n",
       "Mercedes-Benz    42\n",
       "Audi             28\n",
       "Porsche          26\n",
       "Volkswagen       23\n",
       "Ford             21\n",
       "Name: count, dtype: int64"
      ]
     },
     "execution_count": 12,
     "metadata": {},
     "output_type": "execute_result"
    }
   ],
   "source": [
    "# What are the most common EV brands?\n",
    "common_EV_brands = df['brand'].value_counts().head(5)\n",
    "common_EV_brands"
   ]
  },
  {
   "cell_type": "code",
   "execution_count": 16,
   "id": "035c23aa-0738-483f-8cd5-44d8a6415a59",
   "metadata": {},
   "outputs": [
    {
     "data": {
      "text/plain": [
       "model\n",
       "X Privilege AWD (MY25)    1\n",
       "500e Convertible          1\n",
       "500e Hatchback            1\n",
       "600e Scorpionissima       1\n",
       "600e Turismo              1\n",
       "Name: count, dtype: int64"
      ]
     },
     "execution_count": 16,
     "metadata": {},
     "output_type": "execute_result"
    }
   ],
   "source": [
    "# What are the most common EV models?\n",
    "common_EV_models = df['model'].value_counts().head(5)\n",
    "common_EV_models"
   ]
  },
  {
   "cell_type": "code",
   "execution_count": 19,
   "id": "bb5faad1-a624-4a38-9712-4f7906a1cc06",
   "metadata": {},
   "outputs": [
    {
     "data": {
      "text/plain": [
       "np.float64(394.17894736842106)"
      ]
     },
     "execution_count": 19,
     "metadata": {},
     "output_type": "execute_result"
    }
   ],
   "source": [
    "# What is the average range of electric vehicles?\n",
    "avg_range = df['range_km'].mean()\n",
    "avg_range"
   ]
  },
  {
   "cell_type": "code",
   "execution_count": 20,
   "id": "44bbeca3-5c30-4875-b093-ed2508df8079",
   "metadata": {},
   "outputs": [
    {
     "data": {
      "text/plain": [
       "np.int64(325)"
      ]
     },
     "execution_count": 20,
     "metadata": {},
     "output_type": "execute_result"
    }
   ],
   "source": [
    "# What is the average top speed of electric vehicles?\n",
    "top_speed = df['top_speed_kmh'].max()\n",
    "top_speed"
   ]
  },
  {
   "cell_type": "code",
   "execution_count": 22,
   "id": "939abaa2-7110-4790-8e0b-da107487822e",
   "metadata": {},
   "outputs": [
    {
     "data": {
      "text/plain": [
       "np.float64(74.24863157894738)"
      ]
     },
     "execution_count": 22,
     "metadata": {},
     "output_type": "execute_result"
    }
   ],
   "source": [
    "# What is the average battery capacity electric vehicles?\n",
    "avg_battery = df['battery_capacity_kWh'].mean()\n",
    "avg_battery"
   ]
  },
  {
   "cell_type": "code",
   "execution_count": 24,
   "id": "d7995f07-b9b1-4940-85dd-310fb7cefa23",
   "metadata": {},
   "outputs": [
    {
     "data": {
      "text/plain": [
       "car_body_type\n",
       "Suv          244\n",
       "Sedan         63\n",
       "Hatchback     55\n",
       "Name: count, dtype: int64"
      ]
     },
     "execution_count": 24,
     "metadata": {},
     "output_type": "execute_result"
    }
   ],
   "source": [
    "# Which body types dominate the EV market? Sedan vs SUV vs Hatchback?\n",
    "top_body_type = df['car_body_type'].value_counts().head(3)\n",
    "top_body_type"
   ]
  },
  {
   "cell_type": "code",
   "execution_count": 26,
   "id": "536985d8-31dd-462e-b566-6f1e8762b2e4",
   "metadata": {},
   "outputs": [
    {
     "data": {
      "text/plain": [
       "segment\n",
       "JC - MEDIUM    91\n",
       "JD - LARGE     58\n",
       "F - LUXURY     51\n",
       "Name: count, dtype: int64"
      ]
     },
     "execution_count": 26,
     "metadata": {},
     "output_type": "execute_result"
    }
   ],
   "source": [
    "# What segments are most common in EVs?\n",
    "common_segment = df['segment'].value_counts().head(3)\n",
    "common_segment"
   ]
  },
  {
   "cell_type": "code",
   "execution_count": 36,
   "id": "820d366f-b5c3-4970-8b89-d616f5e8fde0",
   "metadata": {
    "scrolled": true
   },
   "outputs": [
    {
     "data": {
      "text/html": [
       "<div>\n",
       "<style scoped>\n",
       "    .dataframe tbody tr th:only-of-type {\n",
       "        vertical-align: middle;\n",
       "    }\n",
       "\n",
       "    .dataframe tbody tr th {\n",
       "        vertical-align: top;\n",
       "    }\n",
       "\n",
       "    .dataframe thead th {\n",
       "        text-align: right;\n",
       "    }\n",
       "</style>\n",
       "<table border=\"1\" class=\"dataframe\">\n",
       "  <thead>\n",
       "    <tr style=\"text-align: right;\">\n",
       "      <th></th>\n",
       "      <th>brand</th>\n",
       "      <th>model</th>\n",
       "      <th>range_km</th>\n",
       "    </tr>\n",
       "  </thead>\n",
       "  <tbody>\n",
       "    <tr>\n",
       "      <th>238</th>\n",
       "      <td>Mercedes-Benz</td>\n",
       "      <td>EQS 450+</td>\n",
       "      <td>685</td>\n",
       "    </tr>\n",
       "    <tr>\n",
       "      <th>193</th>\n",
       "      <td>Lucid</td>\n",
       "      <td>Air Grand Touring</td>\n",
       "      <td>665</td>\n",
       "    </tr>\n",
       "    <tr>\n",
       "      <th>237</th>\n",
       "      <td>Mercedes-Benz</td>\n",
       "      <td>EQS 450 4MATIC</td>\n",
       "      <td>655</td>\n",
       "    </tr>\n",
       "    <tr>\n",
       "      <th>240</th>\n",
       "      <td>Mercedes-Benz</td>\n",
       "      <td>EQS 580 4MATIC</td>\n",
       "      <td>640</td>\n",
       "    </tr>\n",
       "    <tr>\n",
       "      <th>239</th>\n",
       "      <td>Mercedes-Benz</td>\n",
       "      <td>EQS 500 4MATIC</td>\n",
       "      <td>640</td>\n",
       "    </tr>\n",
       "    <tr>\n",
       "      <th>14</th>\n",
       "      <td>Audi</td>\n",
       "      <td>A6 Sportback e-tron performance</td>\n",
       "      <td>610</td>\n",
       "    </tr>\n",
       "    <tr>\n",
       "      <th>15</th>\n",
       "      <td>Audi</td>\n",
       "      <td>A6 Sportback e-tron quattro</td>\n",
       "      <td>590</td>\n",
       "    </tr>\n",
       "    <tr>\n",
       "      <th>241</th>\n",
       "      <td>Mercedes-Benz</td>\n",
       "      <td>EQS AMG 53 4MATIC+</td>\n",
       "      <td>585</td>\n",
       "    </tr>\n",
       "    <tr>\n",
       "      <th>195</th>\n",
       "      <td>Lucid</td>\n",
       "      <td>Air Touring</td>\n",
       "      <td>580</td>\n",
       "    </tr>\n",
       "    <tr>\n",
       "      <th>341</th>\n",
       "      <td>Porsche</td>\n",
       "      <td>Taycan Plus</td>\n",
       "      <td>575</td>\n",
       "    </tr>\n",
       "  </tbody>\n",
       "</table>\n",
       "</div>"
      ],
      "text/plain": [
       "             brand                            model  range_km\n",
       "238  Mercedes-Benz                         EQS 450+       685\n",
       "193          Lucid                Air Grand Touring       665\n",
       "237  Mercedes-Benz                   EQS 450 4MATIC       655\n",
       "240  Mercedes-Benz                   EQS 580 4MATIC       640\n",
       "239  Mercedes-Benz                   EQS 500 4MATIC       640\n",
       "14            Audi  A6 Sportback e-tron performance       610\n",
       "15            Audi      A6 Sportback e-tron quattro       590\n",
       "241  Mercedes-Benz               EQS AMG 53 4MATIC+       585\n",
       "195          Lucid                      Air Touring       580\n",
       "341        Porsche                      Taycan Plus       575"
      ]
     },
     "execution_count": 36,
     "metadata": {},
     "output_type": "execute_result"
    }
   ],
   "source": [
    "# Which EVs have the longest range? (Top 10)\n",
    "longest_range = df[['brand', 'model', 'range_km']].sort_values('range_km',ascending=False).head(10)\n",
    "longest_range"
   ]
  },
  {
   "cell_type": "code",
   "execution_count": 43,
   "id": "4fe50f70-22b2-45b6-ad02-49123b4c4f8a",
   "metadata": {},
   "outputs": [
    {
     "data": {
      "text/html": [
       "<div>\n",
       "<style scoped>\n",
       "    .dataframe tbody tr th:only-of-type {\n",
       "        vertical-align: middle;\n",
       "    }\n",
       "\n",
       "    .dataframe tbody tr th {\n",
       "        vertical-align: top;\n",
       "    }\n",
       "\n",
       "    .dataframe thead th {\n",
       "        text-align: right;\n",
       "    }\n",
       "</style>\n",
       "<table border=\"1\" class=\"dataframe\">\n",
       "  <thead>\n",
       "    <tr style=\"text-align: right;\">\n",
       "      <th></th>\n",
       "      <th>brand</th>\n",
       "      <th>model</th>\n",
       "      <th>efficiency_wh_per_km</th>\n",
       "    </tr>\n",
       "  </thead>\n",
       "  <tbody>\n",
       "    <tr>\n",
       "      <th>98</th>\n",
       "      <td>Dacia</td>\n",
       "      <td>Spring Electric 45</td>\n",
       "      <td>109</td>\n",
       "    </tr>\n",
       "    <tr>\n",
       "      <th>103</th>\n",
       "      <td>Fiat</td>\n",
       "      <td>500e 3+1 24 kWh</td>\n",
       "      <td>112</td>\n",
       "    </tr>\n",
       "    <tr>\n",
       "      <th>107</th>\n",
       "      <td>Fiat</td>\n",
       "      <td>500e Hatchback 24 kWh</td>\n",
       "      <td>112</td>\n",
       "    </tr>\n",
       "    <tr>\n",
       "      <th>105</th>\n",
       "      <td>Fiat</td>\n",
       "      <td>500e Cabrio 24 kWh</td>\n",
       "      <td>112</td>\n",
       "    </tr>\n",
       "    <tr>\n",
       "      <th>99</th>\n",
       "      <td>Dacia</td>\n",
       "      <td>Spring Electric 65</td>\n",
       "      <td>114</td>\n",
       "    </tr>\n",
       "  </tbody>\n",
       "</table>\n",
       "</div>"
      ],
      "text/plain": [
       "     brand                  model  efficiency_wh_per_km\n",
       "98   Dacia     Spring Electric 45                   109\n",
       "103   Fiat        500e 3+1 24 kWh                   112\n",
       "107   Fiat  500e Hatchback 24 kWh                   112\n",
       "105   Fiat     500e Cabrio 24 kWh                   112\n",
       "99   Dacia     Spring Electric 65                   114"
      ]
     },
     "execution_count": 43,
     "metadata": {},
     "output_type": "execute_result"
    }
   ],
   "source": [
    "# Which vehicles are the most energy-efficient? (Lowest Wh/km)\n",
    "energy_efficient_vehicles = df[['brand','model','efficiency_wh_per_km']].sort_values('efficiency_wh_per_km', ascending=True).head(5)\n",
    "energy_efficient_vehicles"
   ]
  },
  {
   "cell_type": "code",
   "execution_count": 44,
   "id": "fdd651b7-d349-4de5-b20c-105a08989553",
   "metadata": {},
   "outputs": [
    {
     "data": {
      "text/html": [
       "<div>\n",
       "<style scoped>\n",
       "    .dataframe tbody tr th:only-of-type {\n",
       "        vertical-align: middle;\n",
       "    }\n",
       "\n",
       "    .dataframe tbody tr th {\n",
       "        vertical-align: top;\n",
       "    }\n",
       "\n",
       "    .dataframe thead th {\n",
       "        text-align: right;\n",
       "    }\n",
       "</style>\n",
       "<table border=\"1\" class=\"dataframe\">\n",
       "  <thead>\n",
       "    <tr style=\"text-align: right;\">\n",
       "      <th></th>\n",
       "      <th>brand</th>\n",
       "      <th>model</th>\n",
       "      <th>seats</th>\n",
       "    </tr>\n",
       "  </thead>\n",
       "  <tbody>\n",
       "    <tr>\n",
       "      <th>313</th>\n",
       "      <td>Peugeot</td>\n",
       "      <td>e-Traveller L2 50 kWh</td>\n",
       "      <td>9</td>\n",
       "    </tr>\n",
       "    <tr>\n",
       "      <th>408</th>\n",
       "      <td>Toyota</td>\n",
       "      <td>PROACE Verso M 75 kWh</td>\n",
       "      <td>9</td>\n",
       "    </tr>\n",
       "    <tr>\n",
       "      <th>407</th>\n",
       "      <td>Toyota</td>\n",
       "      <td>PROACE Verso M 50 kWh</td>\n",
       "      <td>9</td>\n",
       "    </tr>\n",
       "    <tr>\n",
       "      <th>406</th>\n",
       "      <td>Toyota</td>\n",
       "      <td>PROACE Verso L 75 kWh</td>\n",
       "      <td>9</td>\n",
       "    </tr>\n",
       "    <tr>\n",
       "      <th>315</th>\n",
       "      <td>Peugeot</td>\n",
       "      <td>e-Traveller L3 50 kWh</td>\n",
       "      <td>9</td>\n",
       "    </tr>\n",
       "  </tbody>\n",
       "</table>\n",
       "</div>"
      ],
      "text/plain": [
       "       brand                  model  seats\n",
       "313  Peugeot  e-Traveller L2 50 kWh      9\n",
       "408   Toyota  PROACE Verso M 75 kWh      9\n",
       "407   Toyota  PROACE Verso M 50 kWh      9\n",
       "406   Toyota  PROACE Verso L 75 kWh      9\n",
       "315  Peugeot  e-Traveller L3 50 kWh      9"
      ]
     },
     "execution_count": 44,
     "metadata": {},
     "output_type": "execute_result"
    }
   ],
   "source": [
    "# Which EVs have the most seats?\n",
    "most_seats = df[['brand','model','seats']].sort_values('seats', ascending=False).head(5)\n",
    "most_seats"
   ]
  },
  {
   "cell_type": "code",
   "execution_count": 45,
   "id": "7c1f3d05-9b75-408c-988e-ec8aa2a1a8d0",
   "metadata": {},
   "outputs": [
    {
     "data": {
      "text/html": [
       "<div>\n",
       "<style scoped>\n",
       "    .dataframe tbody tr th:only-of-type {\n",
       "        vertical-align: middle;\n",
       "    }\n",
       "\n",
       "    .dataframe tbody tr th {\n",
       "        vertical-align: top;\n",
       "    }\n",
       "\n",
       "    .dataframe thead th {\n",
       "        text-align: right;\n",
       "    }\n",
       "</style>\n",
       "<table border=\"1\" class=\"dataframe\">\n",
       "  <thead>\n",
       "    <tr style=\"text-align: right;\">\n",
       "      <th></th>\n",
       "      <th>brand</th>\n",
       "      <th>model</th>\n",
       "      <th>fast_charging_power_kw_dc</th>\n",
       "    </tr>\n",
       "  </thead>\n",
       "  <tbody>\n",
       "    <tr>\n",
       "      <th>35</th>\n",
       "      <td>Audi</td>\n",
       "      <td>e-tron GT RS performance</td>\n",
       "      <td>281.0</td>\n",
       "    </tr>\n",
       "    <tr>\n",
       "      <th>34</th>\n",
       "      <td>Audi</td>\n",
       "      <td>e-tron GT RS</td>\n",
       "      <td>281.0</td>\n",
       "    </tr>\n",
       "    <tr>\n",
       "      <th>36</th>\n",
       "      <td>Audi</td>\n",
       "      <td>e-tron GT S</td>\n",
       "      <td>281.0</td>\n",
       "    </tr>\n",
       "    <tr>\n",
       "      <th>37</th>\n",
       "      <td>Audi</td>\n",
       "      <td>e-tron GT quattro</td>\n",
       "      <td>281.0</td>\n",
       "    </tr>\n",
       "    <tr>\n",
       "      <th>347</th>\n",
       "      <td>Porsche</td>\n",
       "      <td>Taycan Turbo GT Weissach</td>\n",
       "      <td>281.0</td>\n",
       "    </tr>\n",
       "  </tbody>\n",
       "</table>\n",
       "</div>"
      ],
      "text/plain": [
       "       brand                     model  fast_charging_power_kw_dc\n",
       "35      Audi  e-tron GT RS performance                      281.0\n",
       "34      Audi              e-tron GT RS                      281.0\n",
       "36      Audi               e-tron GT S                      281.0\n",
       "37      Audi         e-tron GT quattro                      281.0\n",
       "347  Porsche  Taycan Turbo GT Weissach                      281.0"
      ]
     },
     "execution_count": 45,
     "metadata": {},
     "output_type": "execute_result"
    }
   ],
   "source": [
    "# Which EVs support the highest DC fast-charging power?\n",
    "most_seats = df[['brand','model','fast_charging_power_kw_dc']].sort_values('fast_charging_power_kw_dc', ascending=False).head(5)\n",
    "most_seats"
   ]
  },
  {
   "cell_type": "code",
   "execution_count": 46,
   "id": "92683b9a-2fc9-4cb9-814c-18c8571ae764",
   "metadata": {},
   "outputs": [
    {
     "data": {
      "text/plain": [
       "fast_charge_port\n",
       "CCS        474\n",
       "CHADEMO      1\n",
       "Name: count, dtype: int64"
      ]
     },
     "execution_count": 46,
     "metadata": {},
     "output_type": "execute_result"
    }
   ],
   "source": [
    "# What are the most common fast charge port types?\n",
    "common_charging_ports = df['fast_charge_port'].value_counts()\n",
    "common_charging_ports"
   ]
  },
  {
   "cell_type": "code",
   "execution_count": 53,
   "id": "4643fd10-0c55-44dc-b69b-630835523ac3",
   "metadata": {},
   "outputs": [
    {
     "data": {
      "text/plain": [
       "np.int64(201)"
      ]
     },
     "execution_count": 53,
     "metadata": {},
     "output_type": "execute_result"
    }
   ],
   "source": [
    "# How many EVs don’t report the number of cells (value = -1)?\n",
    "No_cell_nums = (df['number_of_cells'] == -1).sum()\n",
    "No_cell_nums"
   ]
  },
  {
   "cell_type": "code",
   "execution_count": 63,
   "id": "ea65a475-a88c-448d-b50c-9924e5c358f9",
   "metadata": {},
   "outputs": [
    {
     "data": {
      "text/html": [
       "<div>\n",
       "<style scoped>\n",
       "    .dataframe tbody tr th:only-of-type {\n",
       "        vertical-align: middle;\n",
       "    }\n",
       "\n",
       "    .dataframe tbody tr th {\n",
       "        vertical-align: top;\n",
       "    }\n",
       "\n",
       "    .dataframe thead th {\n",
       "        text-align: right;\n",
       "    }\n",
       "</style>\n",
       "<table border=\"1\" class=\"dataframe\">\n",
       "  <thead>\n",
       "    <tr style=\"text-align: right;\">\n",
       "      <th></th>\n",
       "      <th>brand</th>\n",
       "      <th>pulling power</th>\n",
       "    </tr>\n",
       "  </thead>\n",
       "  <tbody>\n",
       "    <tr>\n",
       "      <th>51</th>\n",
       "      <td>BMW</td>\n",
       "      <td>3515.0</td>\n",
       "    </tr>\n",
       "    <tr>\n",
       "      <th>53</th>\n",
       "      <td>BMW</td>\n",
       "      <td>3265.0</td>\n",
       "    </tr>\n",
       "    <tr>\n",
       "      <th>33</th>\n",
       "      <td>Audi</td>\n",
       "      <td>3255.0</td>\n",
       "    </tr>\n",
       "    <tr>\n",
       "      <th>32</th>\n",
       "      <td>Audi</td>\n",
       "      <td>3255.0</td>\n",
       "    </tr>\n",
       "    <tr>\n",
       "      <th>29</th>\n",
       "      <td>Audi</td>\n",
       "      <td>3255.0</td>\n",
       "    </tr>\n",
       "    <tr>\n",
       "      <th>27</th>\n",
       "      <td>Audi</td>\n",
       "      <td>3255.0</td>\n",
       "    </tr>\n",
       "    <tr>\n",
       "      <th>177</th>\n",
       "      <td>Kia</td>\n",
       "      <td>3240.0</td>\n",
       "    </tr>\n",
       "    <tr>\n",
       "      <th>188</th>\n",
       "      <td>Lotus</td>\n",
       "      <td>3235.0</td>\n",
       "    </tr>\n",
       "    <tr>\n",
       "      <th>178</th>\n",
       "      <td>Kia</td>\n",
       "      <td>3200.0</td>\n",
       "    </tr>\n",
       "    <tr>\n",
       "      <th>158</th>\n",
       "      <td>Hyundai</td>\n",
       "      <td>3200.0</td>\n",
       "    </tr>\n",
       "  </tbody>\n",
       "</table>\n",
       "</div>"
      ],
      "text/plain": [
       "       brand  pulling power\n",
       "51       BMW         3515.0\n",
       "53       BMW         3265.0\n",
       "33      Audi         3255.0\n",
       "32      Audi         3255.0\n",
       "29      Audi         3255.0\n",
       "27      Audi         3255.0\n",
       "177      Kia         3240.0\n",
       "188    Lotus         3235.0\n",
       "178      Kia         3200.0\n",
       "158  Hyundai         3200.0"
      ]
     },
     "execution_count": 63,
     "metadata": {},
     "output_type": "execute_result"
    }
   ],
   "source": [
    "# Which manufacturers push for high torque + towing capacity?\n",
    "df['pulling power'] = df['torque_nm'] + df['towing_capacity_kg']\n",
    "df['pulling power']\n",
    "\n",
    "top_brands  = df[['brand','pulling power']].sort_values('pulling power', ascending=False).head(10)\n",
    "top_brands"
   ]
  },
  {
   "cell_type": "code",
   "execution_count": 67,
   "id": "cf8ef3d9-1698-436d-a488-da3714b233c6",
   "metadata": {},
   "outputs": [
    {
     "data": {
      "text/html": [
       "<div>\n",
       "<style scoped>\n",
       "    .dataframe tbody tr th:only-of-type {\n",
       "        vertical-align: middle;\n",
       "    }\n",
       "\n",
       "    .dataframe tbody tr th {\n",
       "        vertical-align: top;\n",
       "    }\n",
       "\n",
       "    .dataframe thead th {\n",
       "        text-align: right;\n",
       "    }\n",
       "</style>\n",
       "<table border=\"1\" class=\"dataframe\">\n",
       "  <thead>\n",
       "    <tr style=\"text-align: right;\">\n",
       "      <th></th>\n",
       "      <th>model</th>\n",
       "      <th>long_distance</th>\n",
       "    </tr>\n",
       "  </thead>\n",
       "  <tbody>\n",
       "    <tr>\n",
       "      <th>341</th>\n",
       "      <td>Taycan Plus</td>\n",
       "      <td>856.0</td>\n",
       "    </tr>\n",
       "    <tr>\n",
       "      <th>193</th>\n",
       "      <td>Air Grand Touring</td>\n",
       "      <td>849.0</td>\n",
       "    </tr>\n",
       "    <tr>\n",
       "      <th>333</th>\n",
       "      <td>Taycan 4 Plus</td>\n",
       "      <td>846.0</td>\n",
       "    </tr>\n",
       "    <tr>\n",
       "      <th>336</th>\n",
       "      <td>Taycan 4S Plus</td>\n",
       "      <td>846.0</td>\n",
       "    </tr>\n",
       "    <tr>\n",
       "      <th>238</th>\n",
       "      <td>EQS 450+</td>\n",
       "      <td>845.0</td>\n",
       "    </tr>\n",
       "    <tr>\n",
       "      <th>36</th>\n",
       "      <td>e-tron GT S</td>\n",
       "      <td>821.0</td>\n",
       "    </tr>\n",
       "    <tr>\n",
       "      <th>37</th>\n",
       "      <td>e-tron GT quattro</td>\n",
       "      <td>821.0</td>\n",
       "    </tr>\n",
       "    <tr>\n",
       "      <th>339</th>\n",
       "      <td>Taycan GTS</td>\n",
       "      <td>816.0</td>\n",
       "    </tr>\n",
       "    <tr>\n",
       "      <th>344</th>\n",
       "      <td>Taycan Turbo</td>\n",
       "      <td>816.0</td>\n",
       "    </tr>\n",
       "    <tr>\n",
       "      <th>237</th>\n",
       "      <td>EQS 450 4MATIC</td>\n",
       "      <td>815.0</td>\n",
       "    </tr>\n",
       "  </tbody>\n",
       "</table>\n",
       "</div>"
      ],
      "text/plain": [
       "                 model  long_distance\n",
       "341        Taycan Plus          856.0\n",
       "193  Air Grand Touring          849.0\n",
       "333      Taycan 4 Plus          846.0\n",
       "336     Taycan 4S Plus          846.0\n",
       "238           EQS 450+          845.0\n",
       "36         e-tron GT S          821.0\n",
       "37   e-tron GT quattro          821.0\n",
       "339         Taycan GTS          816.0\n",
       "344       Taycan Turbo          816.0\n",
       "237     EQS 450 4MATIC          815.0"
      ]
     },
     "execution_count": 67,
     "metadata": {},
     "output_type": "execute_result"
    }
   ],
   "source": [
    "# Which cars are best for long-distance? (Range + Fast Charge)\n",
    "df['long_distance'] = df['range_km'] + df['fast_charging_power_kw_dc']\n",
    "best_for_long_dist = df[['model','long_distance']].sort_values('long_distance',ascending=False).head(10)\n",
    "best_for_long_dist"
   ]
  }
 ],
 "metadata": {
  "kernelspec": {
   "display_name": "Python 3 (ipykernel)",
   "language": "python",
   "name": "python3"
  },
  "language_info": {
   "codemirror_mode": {
    "name": "ipython",
    "version": 3
   },
   "file_extension": ".py",
   "mimetype": "text/x-python",
   "name": "python",
   "nbconvert_exporter": "python",
   "pygments_lexer": "ipython3",
   "version": "3.12.8"
  }
 },
 "nbformat": 4,
 "nbformat_minor": 5
}
