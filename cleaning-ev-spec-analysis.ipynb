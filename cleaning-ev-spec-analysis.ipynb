{
 "cells": [
  {
   "cell_type": "code",
   "execution_count": 1,
   "id": "a5f0863c-7c11-437b-b4c1-72c9f2fa2c83",
   "metadata": {},
   "outputs": [],
   "source": [
    "import pandas as pd \n",
    "import numpy as np"
   ]
  },
  {
   "cell_type": "code",
   "execution_count": 81,
   "id": "4fdb3e6e-dec3-47a5-a26a-4af6d1f0ab9f",
   "metadata": {},
   "outputs": [],
   "source": [
    "df = pd.read_csv('Datasets/electric_vehicles_spec_2025.csv')"
   ]
  },
  {
   "cell_type": "code",
   "execution_count": 22,
   "id": "4e81d919-8633-48c8-b736-876954127413",
   "metadata": {},
   "outputs": [
    {
     "name": "stdout",
     "output_type": "stream",
     "text": [
      "✅ Dropped 1 row with null cargo_volume_l.\n"
     ]
    }
   ],
   "source": [
    "df[df['cargo_volume_l'].isnull()]\n",
    "df = df.dropna(subset=['cargo_volume_l'])\n",
    "print(\"✅ Dropped 1 row with null cargo_volume_l.\")"
   ]
  },
  {
   "cell_type": "code",
   "execution_count": 48,
   "id": "1fc76103-8edc-4496-b06c-b3133530c272",
   "metadata": {
    "scrolled": true
   },
   "outputs": [],
   "source": [
    "df[df['fast_charge_port'].isnull()]\n",
    "df = df.dropna(subset=['fast_charging_power_kw_dc'])\n",
    "df = df.dropna(subset=['fast_charge_port'])"
   ]
  },
  {
   "cell_type": "code",
   "execution_count": 29,
   "id": "89346ec3-cd83-4ccd-91e0-5959593bba1b",
   "metadata": {},
   "outputs": [],
   "source": [
    "df[df['torque_nm'].isnull()]\n",
    "df['torque_nm'] = df['torque_nm'].fillna(df['torque_nm'].median())  # Impute with median"
   ]
  },
  {
   "cell_type": "code",
   "execution_count": 59,
   "id": "46c6e62f-df46-4776-b615-5df270d09d45",
   "metadata": {},
   "outputs": [],
   "source": [
    "df[df['towing_capacity_kg'].isnull()]\n",
    "df['towing_capacity_kg'] = df['towing_capacity_kg'].fillna(0)   # Impute with 0 "
   ]
  },
  {
   "cell_type": "code",
   "execution_count": 63,
   "id": "a21d7c49-c132-42dc-b928-66f81722a23e",
   "metadata": {},
   "outputs": [],
   "source": [
    "df['number_of_cells'] = df['number_of_cells'].fillna(-1) # # Impute with -1 / unknown for int types"
   ]
  },
  {
   "cell_type": "code",
   "execution_count": 64,
   "id": "a7248d62-aa6c-451c-85cc-a9fabf8879d5",
   "metadata": {},
   "outputs": [
    {
     "data": {
      "text/plain": [
       "brand                        0\n",
       "model                        0\n",
       "top_speed_kmh                0\n",
       "battery_capacity_kWh         0\n",
       "battery_type                 0\n",
       "number_of_cells              0\n",
       "torque_nm                    0\n",
       "efficiency_wh_per_km         0\n",
       "range_km                     0\n",
       "acceleration_0_100_s         0\n",
       "fast_charging_power_kw_dc    0\n",
       "fast_charge_port             0\n",
       "towing_capacity_kg           0\n",
       "cargo_volume_l               0\n",
       "seats                        0\n",
       "drivetrain                   0\n",
       "segment                      0\n",
       "length_mm                    0\n",
       "width_mm                     0\n",
       "height_mm                    0\n",
       "car_body_type                0\n",
       "source_url                   0\n",
       "dtype: int64"
      ]
     },
     "execution_count": 64,
     "metadata": {},
     "output_type": "execute_result"
    }
   ],
   "source": [
    "df.isna().sum().sort_values(ascending=False)"
   ]
  },
  {
   "cell_type": "code",
   "execution_count": 65,
   "id": "ee86d5be-50fc-454c-912f-333571047238",
   "metadata": {},
   "outputs": [
    {
     "data": {
      "text/plain": [
       "np.int64(0)"
      ]
     },
     "execution_count": 65,
     "metadata": {},
     "output_type": "execute_result"
    }
   ],
   "source": [
    "df.duplicated().sum()"
   ]
  },
  {
   "cell_type": "markdown",
   "id": "6eefa335-1e2f-4e29-95f7-b9992bcd5d5d",
   "metadata": {},
   "source": [
    "# String Cleanup"
   ]
  },
  {
   "cell_type": "code",
   "execution_count": 73,
   "id": "22e7c85c-9119-45d0-9ac5-bf06f02ad3fa",
   "metadata": {},
   "outputs": [],
   "source": [
    "# strip extra sapces in eleigible string columns\n",
    "# .title() - make first word capital pther small to maintain readability\n",
    "# .str.upper() to preserve acronyms like AWD, FWD, RWD"
   ]
  },
  {
   "cell_type": "code",
   "execution_count": 75,
   "id": "1e8d6f02-3f63-4854-9bfd-2f5a9ca46a27",
   "metadata": {},
   "outputs": [],
   "source": [
    "df['battery_type'] = df['battery_type'].str.strip().str.title()\n",
    "df['fast_charge_port'] = df['fast_charge_port'].str.strip().str.upper()\n",
    "df['drivetrain'] = df['drivetrain'].str.strip().str.upper()\n",
    "df['segment'] = df['segment'].str.strip().str.upper()\n",
    "df['car_body_type'] = df['car_body_type'].str.strip().str.title()"
   ]
  },
  {
   "cell_type": "code",
   "execution_count": 76,
   "id": "ab179850-7600-45ff-a1f4-dee7d4c0bd3c",
   "metadata": {},
   "outputs": [
    {
     "data": {
      "text/html": [
       "<div>\n",
       "<style scoped>\n",
       "    .dataframe tbody tr th:only-of-type {\n",
       "        vertical-align: middle;\n",
       "    }\n",
       "\n",
       "    .dataframe tbody tr th {\n",
       "        vertical-align: top;\n",
       "    }\n",
       "\n",
       "    .dataframe thead th {\n",
       "        text-align: right;\n",
       "    }\n",
       "</style>\n",
       "<table border=\"1\" class=\"dataframe\">\n",
       "  <thead>\n",
       "    <tr style=\"text-align: right;\">\n",
       "      <th></th>\n",
       "      <th>brand</th>\n",
       "      <th>model</th>\n",
       "      <th>top_speed_kmh</th>\n",
       "      <th>battery_capacity_kWh</th>\n",
       "      <th>battery_type</th>\n",
       "      <th>number_of_cells</th>\n",
       "      <th>torque_nm</th>\n",
       "      <th>efficiency_wh_per_km</th>\n",
       "      <th>range_km</th>\n",
       "      <th>acceleration_0_100_s</th>\n",
       "      <th>...</th>\n",
       "      <th>towing_capacity_kg</th>\n",
       "      <th>cargo_volume_l</th>\n",
       "      <th>seats</th>\n",
       "      <th>drivetrain</th>\n",
       "      <th>segment</th>\n",
       "      <th>length_mm</th>\n",
       "      <th>width_mm</th>\n",
       "      <th>height_mm</th>\n",
       "      <th>car_body_type</th>\n",
       "      <th>source_url</th>\n",
       "    </tr>\n",
       "  </thead>\n",
       "  <tbody>\n",
       "    <tr>\n",
       "      <th>0</th>\n",
       "      <td>Abarth</td>\n",
       "      <td>500e Convertible</td>\n",
       "      <td>155</td>\n",
       "      <td>37.8</td>\n",
       "      <td>Lithium-Ion</td>\n",
       "      <td>192.0</td>\n",
       "      <td>235.0</td>\n",
       "      <td>156</td>\n",
       "      <td>225</td>\n",
       "      <td>7.0</td>\n",
       "      <td>...</td>\n",
       "      <td>0.0</td>\n",
       "      <td>185</td>\n",
       "      <td>4</td>\n",
       "      <td>FWD</td>\n",
       "      <td>B - COMPACT</td>\n",
       "      <td>3673</td>\n",
       "      <td>1683</td>\n",
       "      <td>1518</td>\n",
       "      <td>Hatchback</td>\n",
       "      <td>https://ev-database.org/car/1904/Abarth-500e-C...</td>\n",
       "    </tr>\n",
       "    <tr>\n",
       "      <th>1</th>\n",
       "      <td>Abarth</td>\n",
       "      <td>500e Hatchback</td>\n",
       "      <td>155</td>\n",
       "      <td>37.8</td>\n",
       "      <td>Lithium-Ion</td>\n",
       "      <td>192.0</td>\n",
       "      <td>235.0</td>\n",
       "      <td>149</td>\n",
       "      <td>225</td>\n",
       "      <td>7.0</td>\n",
       "      <td>...</td>\n",
       "      <td>0.0</td>\n",
       "      <td>185</td>\n",
       "      <td>4</td>\n",
       "      <td>FWD</td>\n",
       "      <td>B - COMPACT</td>\n",
       "      <td>3673</td>\n",
       "      <td>1683</td>\n",
       "      <td>1518</td>\n",
       "      <td>Hatchback</td>\n",
       "      <td>https://ev-database.org/car/1903/Abarth-500e-H...</td>\n",
       "    </tr>\n",
       "    <tr>\n",
       "      <th>2</th>\n",
       "      <td>Abarth</td>\n",
       "      <td>600e Scorpionissima</td>\n",
       "      <td>200</td>\n",
       "      <td>50.8</td>\n",
       "      <td>Lithium-Ion</td>\n",
       "      <td>102.0</td>\n",
       "      <td>345.0</td>\n",
       "      <td>158</td>\n",
       "      <td>280</td>\n",
       "      <td>5.9</td>\n",
       "      <td>...</td>\n",
       "      <td>0.0</td>\n",
       "      <td>360</td>\n",
       "      <td>5</td>\n",
       "      <td>FWD</td>\n",
       "      <td>JB - COMPACT</td>\n",
       "      <td>4187</td>\n",
       "      <td>1779</td>\n",
       "      <td>1557</td>\n",
       "      <td>Suv</td>\n",
       "      <td>https://ev-database.org/car/3057/Abarth-600e-S...</td>\n",
       "    </tr>\n",
       "    <tr>\n",
       "      <th>3</th>\n",
       "      <td>Abarth</td>\n",
       "      <td>600e Turismo</td>\n",
       "      <td>200</td>\n",
       "      <td>50.8</td>\n",
       "      <td>Lithium-Ion</td>\n",
       "      <td>102.0</td>\n",
       "      <td>345.0</td>\n",
       "      <td>158</td>\n",
       "      <td>280</td>\n",
       "      <td>6.2</td>\n",
       "      <td>...</td>\n",
       "      <td>0.0</td>\n",
       "      <td>360</td>\n",
       "      <td>5</td>\n",
       "      <td>FWD</td>\n",
       "      <td>JB - COMPACT</td>\n",
       "      <td>4187</td>\n",
       "      <td>1779</td>\n",
       "      <td>1557</td>\n",
       "      <td>Suv</td>\n",
       "      <td>https://ev-database.org/car/3056/Abarth-600e-T...</td>\n",
       "    </tr>\n",
       "    <tr>\n",
       "      <th>4</th>\n",
       "      <td>Aiways</td>\n",
       "      <td>U5</td>\n",
       "      <td>150</td>\n",
       "      <td>60.0</td>\n",
       "      <td>Lithium-Ion</td>\n",
       "      <td>-1.0</td>\n",
       "      <td>310.0</td>\n",
       "      <td>156</td>\n",
       "      <td>315</td>\n",
       "      <td>7.5</td>\n",
       "      <td>...</td>\n",
       "      <td>0.0</td>\n",
       "      <td>496</td>\n",
       "      <td>5</td>\n",
       "      <td>FWD</td>\n",
       "      <td>JC - MEDIUM</td>\n",
       "      <td>4680</td>\n",
       "      <td>1865</td>\n",
       "      <td>1700</td>\n",
       "      <td>Suv</td>\n",
       "      <td>https://ev-database.org/car/1678/Aiways-U5</td>\n",
       "    </tr>\n",
       "  </tbody>\n",
       "</table>\n",
       "<p>5 rows × 22 columns</p>\n",
       "</div>"
      ],
      "text/plain": [
       "    brand                model  top_speed_kmh  battery_capacity_kWh  \\\n",
       "0  Abarth     500e Convertible            155                  37.8   \n",
       "1  Abarth       500e Hatchback            155                  37.8   \n",
       "2  Abarth  600e Scorpionissima            200                  50.8   \n",
       "3  Abarth         600e Turismo            200                  50.8   \n",
       "4  Aiways                   U5            150                  60.0   \n",
       "\n",
       "  battery_type  number_of_cells  torque_nm  efficiency_wh_per_km  range_km  \\\n",
       "0  Lithium-Ion            192.0      235.0                   156       225   \n",
       "1  Lithium-Ion            192.0      235.0                   149       225   \n",
       "2  Lithium-Ion            102.0      345.0                   158       280   \n",
       "3  Lithium-Ion            102.0      345.0                   158       280   \n",
       "4  Lithium-Ion             -1.0      310.0                   156       315   \n",
       "\n",
       "   acceleration_0_100_s  ...  towing_capacity_kg cargo_volume_l  seats  \\\n",
       "0                   7.0  ...                 0.0            185      4   \n",
       "1                   7.0  ...                 0.0            185      4   \n",
       "2                   5.9  ...                 0.0            360      5   \n",
       "3                   6.2  ...                 0.0            360      5   \n",
       "4                   7.5  ...                 0.0            496      5   \n",
       "\n",
       "  drivetrain       segment length_mm width_mm  height_mm  car_body_type  \\\n",
       "0        FWD   B - COMPACT      3673     1683       1518      Hatchback   \n",
       "1        FWD   B - COMPACT      3673     1683       1518      Hatchback   \n",
       "2        FWD  JB - COMPACT      4187     1779       1557            Suv   \n",
       "3        FWD  JB - COMPACT      4187     1779       1557            Suv   \n",
       "4        FWD   JC - MEDIUM      4680     1865       1700            Suv   \n",
       "\n",
       "                                          source_url  \n",
       "0  https://ev-database.org/car/1904/Abarth-500e-C...  \n",
       "1  https://ev-database.org/car/1903/Abarth-500e-H...  \n",
       "2  https://ev-database.org/car/3057/Abarth-600e-S...  \n",
       "3  https://ev-database.org/car/3056/Abarth-600e-T...  \n",
       "4         https://ev-database.org/car/1678/Aiways-U5  \n",
       "\n",
       "[5 rows x 22 columns]"
      ]
     },
     "execution_count": 76,
     "metadata": {},
     "output_type": "execute_result"
    }
   ],
   "source": [
    "df.head(5)"
   ]
  },
  {
   "cell_type": "code",
   "execution_count": 77,
   "id": "ceea948e-80ae-456f-ab62-846df2283c1f",
   "metadata": {},
   "outputs": [],
   "source": [
    "df.to_csv(\"Datasets/ev_cleaned.csv\", index=False)"
   ]
  },
  {
   "cell_type": "code",
   "execution_count": null,
   "id": "0be092e1-cbb3-41ac-9c20-3f42e7b2e9b2",
   "metadata": {},
   "outputs": [],
   "source": []
  }
 ],
 "metadata": {
  "kernelspec": {
   "display_name": "Python 3 (ipykernel)",
   "language": "python",
   "name": "python3"
  },
  "language_info": {
   "codemirror_mode": {
    "name": "ipython",
    "version": 3
   },
   "file_extension": ".py",
   "mimetype": "text/x-python",
   "name": "python",
   "nbconvert_exporter": "python",
   "pygments_lexer": "ipython3",
   "version": "3.12.8"
  }
 },
 "nbformat": 4,
 "nbformat_minor": 5
}
